{
 "cells": [
  {
   "cell_type": "markdown",
   "id": "9c99e4b1-7be4-497f-acb0-8427065f12d6",
   "metadata": {},
   "source": [
    "## Evaluate segmentation algorithm on HRF dataset\n",
    "https://medium.com/mlearning-ai/understanding-evaluation-metrics-in-medical-image-segmentation-d289a373a3f"
   ]
  },
  {
   "cell_type": "code",
   "execution_count": 1,
   "id": "f8b53388-de3c-4d42-b793-2b7a730d146b",
   "metadata": {},
   "outputs": [],
   "source": [
    "import retina_segment\n",
    "import os\n",
    "import glob\n",
    "import cv2\n",
    "import numpy as np\n",
    "import matplotlib.pyplot as plt\n",
    "import math\n",
    "from statistics import mean \n",
    "from sklearn.metrics import (classification_report,\n",
    "                            roc_auc_score,\n",
    "                            f1_score,\n",
    "                            matthews_corrcoef,\n",
    "                            confusion_matrix, \n",
    "                            jaccard_score,\n",
    "                            recall_score,\n",
    "                            accuracy_score,\n",
    "                            confusion_matrix)"
   ]
  },
  {
   "cell_type": "code",
   "execution_count": 2,
   "id": "b11c8c86-e260-4e32-91e7-db1d50870b35",
   "metadata": {},
   "outputs": [],
   "source": [
    "ORIGINAL_IMG_FOLDER = \"../Images/HRF/original/\"\n",
    "SEGMENT_IMG_FOLDER = \"../Images/HRF/manual_segment/\""
   ]
  },
  {
   "cell_type": "code",
   "execution_count": 3,
   "id": "a7cd79c8-6cb8-474b-a203-b08f593a490a",
   "metadata": {},
   "outputs": [],
   "source": [
    "ORIGINAL_IMGs = glob.glob(ORIGINAL_IMG_FOLDER+\"*\")\n",
    "SEGMENT_IMGs = glob.glob(SEGMENT_IMG_FOLDER+\"*\")"
   ]
  },
  {
   "cell_type": "code",
   "execution_count": 4,
   "id": "1d2ab349-b984-4aa1-8f2f-006bf7e40366",
   "metadata": {},
   "outputs": [],
   "source": [
    "def extract_img_ID(path):\n",
    "    ID = path.split(\"/\")[-1].split(\".\")[0]\n",
    "    return ID"
   ]
  },
  {
   "cell_type": "code",
   "execution_count": 26,
   "id": "314143a6-fafd-4a5e-981b-d56cbfdd287b",
   "metadata": {},
   "outputs": [],
   "source": [
    "y_true_agg = []\n",
    "y_pred_agg = []\n",
    "\n",
    "accuracy_list = []\n",
    "sensitivity_list = []\n",
    "specificity_list = []\n",
    "\n",
    "for image_path in ORIGINAL_IMGs:\n",
    "    ID = extract_img_ID(image_path)\n",
    "    #print(ID)\n",
    "    \n",
    "    # Load original image\n",
    "    img = cv2.imread(image_path)\n",
    "    \n",
    "    # Load segmented image, resize to match with segmentation output, select only green channel and flatten \n",
    "    img_segment = cv2.imread(SEGMENT_IMG_FOLDER+ID+\".tif\")\n",
    "    img_segment_1000 = cv2.resize(img_segment, (1000, 1000))\n",
    "    y_true = img_segment_1000[:,:,1].flatten() // 255\n",
    "\n",
    "    # Make prediction\n",
    "    y_pred = retina_segment.segmentation(img, resize=True)\n",
    "    y_pred = y_pred.flatten() // 255\n",
    "    #print(y_pred.size, y_true.size)\n",
    "\n",
    "    # Append the flattened arrays to the aggregated lists\n",
    "    y_true_agg.extend(y_true)\n",
    "    y_pred_agg.extend(y_pred)\n",
    "\n",
    "    # Compute metrics for single images\n",
    "    accuracy = accuracy_score(y_true, y_pred)\n",
    "    sensitivity = recall_score(y_true, y_pred)\n",
    "    conf_matrix = confusion_matrix(y_true, y_pred)\n",
    "    TN, FP, FN, TP = conf_matrix.ravel()\n",
    "    specificity = TN / (TN + FP) if (TN + FP) != 0 else 0\n",
    "\n",
    "    # Append results\n",
    "    accuracy_list.append(accuracy)\n",
    "    sensitivity_list.append(sensitivity)\n",
    "    specificity_list.append(specificity)"
   ]
  },
  {
   "cell_type": "code",
   "execution_count": 32,
   "id": "8a583ade-52fe-4a03-8d59-a3940eee9716",
   "metadata": {},
   "outputs": [
    {
     "name": "stdout",
     "output_type": "stream",
     "text": [
      "Accuracy: 0.9524100888888889 Sensitivity: 0.7694500212044648 Specificity: 0.9655492781014003\n"
     ]
    }
   ],
   "source": [
    "# Average metrics\n",
    "print(\"Accuracy:\",mean(accuracy_list),\n",
    "      \"Sensitivity:\", mean(sensitivity_list),\n",
    "      \"Specificity:\",mean(specificity_list))"
   ]
  },
  {
   "cell_type": "code",
   "execution_count": 12,
   "id": "a386de05-55eb-4277-9c44-4b34cacfe452",
   "metadata": {},
   "outputs": [
    {
     "name": "stdout",
     "output_type": "stream",
     "text": [
      "              precision    recall  f1-score   support\n",
      "\n",
      "           0       0.98      0.97      0.97  42030649\n",
      "           1       0.61      0.77      0.68   2969351\n",
      "\n",
      "    accuracy                           0.95  45000000\n",
      "   macro avg       0.80      0.87      0.83  45000000\n",
      "weighted avg       0.96      0.95      0.95  45000000\n",
      "\n"
     ]
    }
   ],
   "source": [
    "# Generate the classification report for aggregated results\n",
    "aggregated_report = classification_report(y_true_agg, y_pred_agg)\n",
    "print(aggregated_report)"
   ]
  },
  {
   "cell_type": "code",
   "execution_count": 15,
   "id": "ef449fb2-a508-43e1-a64d-5056b1e22eeb",
   "metadata": {},
   "outputs": [
    {
     "name": "stdout",
     "output_type": "stream",
     "text": [
      "Dice Coefficient: 0.6803926004902283\n"
     ]
    }
   ],
   "source": [
    "dice = f1_score(y_true_agg, y_pred_agg)\n",
    "print(\"Dice Coefficient:\", dice)"
   ]
  },
  {
   "cell_type": "code",
   "execution_count": 16,
   "id": "c8f27215-a136-4842-a359-242b36a2014e",
   "metadata": {},
   "outputs": [
    {
     "name": "stdout",
     "output_type": "stream",
     "text": [
      "AUC: 0.8665690728213665\n"
     ]
    }
   ],
   "source": [
    "auc = roc_auc_score(y_true_agg, y_pred_agg)\n",
    "print(\"AUC:\", auc)"
   ]
  },
  {
   "cell_type": "code",
   "execution_count": 17,
   "id": "59c2815d-96f5-4a02-a6c2-8b353c975791",
   "metadata": {},
   "outputs": [
    {
     "name": "stdout",
     "output_type": "stream",
     "text": [
      "MCC: 0.660031094328147\n"
     ]
    }
   ],
   "source": [
    "mcc = matthews_corrcoef(y_true_agg, y_pred_agg)\n",
    "print(\"MCC:\", mcc)"
   ]
  },
  {
   "cell_type": "code",
   "execution_count": 20,
   "id": "982b3180-3d5a-4f52-81ae-0fe273a40319",
   "metadata": {},
   "outputs": [
    {
     "name": "stdout",
     "output_type": "stream",
     "text": [
      "Jaccard: 0.5156022925780737\n"
     ]
    }
   ],
   "source": [
    "jaccard = jaccard_score(y_true_agg, y_pred_agg)\n",
    "print(\"Jaccard:\", jaccard)"
   ]
  },
  {
   "cell_type": "markdown",
   "id": "a22a7ec2-8979-49c5-87ca-4afbe0b489cc",
   "metadata": {},
   "source": [
    "### Parameters tuning\n",
    "\n",
    "(11, 250)\n",
    "{'dice': 0.6985778512305946, 'jaccard': 0.5367803613079382}"
   ]
  },
  {
   "cell_type": "code",
   "execution_count": 6,
   "id": "6216f651-a277-4630-9a12-edf210703078",
   "metadata": {},
   "outputs": [],
   "source": [
    "t_values = range(7, 12)  # range for t\n",
    "A_values = range(100, 301, 50)  # range for A\n",
    "#L_values = range(30, 71, 10)  # range for L"
   ]
  },
  {
   "cell_type": "code",
   "execution_count": 20,
   "id": "a2595676-1a68-4d51-b760-a5a5dad811d0",
   "metadata": {},
   "outputs": [],
   "source": [
    "best_params = {}\n",
    "\n",
    "for t_i in t_values:\n",
    "    for A_i in A_values:\n",
    "        #for L_i in L_values:\n",
    "\n",
    "            y_true_agg = []\n",
    "            y_pred_agg = []\n",
    "\n",
    "            for image_path in ORIGINAL_IMGs:\n",
    "                ID = extract_img_ID(image_path)\n",
    "                #print(ID)\n",
    "                \n",
    "                # Load original image\n",
    "                img = cv2.imread(image_path)\n",
    "                \n",
    "                # Load segmented image, resize to match with segmentation output, select only green channel and flatten \n",
    "                img_segment = cv2.imread(SEGMENT_IMG_FOLDER+ID+\".tif\")\n",
    "                img_segment_1000 = cv2.resize(img_segment, (1000, 1000))\n",
    "                y_true = img_segment_1000[:,:,1].flatten() // 255\n",
    "            \n",
    "                # Make prediction\n",
    "                y_pred = retina_segment.segmentation(img,t=t_i, A=A_i, resize=True)\n",
    "                y_pred = y_pred.flatten() // 255\n",
    "\n",
    "                # Append the flattened arrays to the aggregated lists\n",
    "                y_true_agg.extend(y_true)\n",
    "                y_pred_agg.extend(y_pred)\n",
    "\n",
    "            # Generate the classification report for aggregated results\n",
    "            # aggregated_report = classification_report(y_true_agg, y_pred_agg)\n",
    "            # auc = roc_auc_score(y_true_agg, y_pred_agg)\n",
    "            dice = f1_score(y_true_agg, y_pred_agg)\n",
    "            jaccard = jaccard_score(y_true_agg, y_pred_agg)\n",
    "\n",
    "\n",
    "            best_params[(t_i,A_i)] = {'dice':dice,'jaccard':jaccard} "
   ]
  },
  {
   "cell_type": "code",
   "execution_count": 21,
   "id": "e99c428c-3f44-4958-b931-501a37729883",
   "metadata": {},
   "outputs": [
    {
     "name": "stdout",
     "output_type": "stream",
     "text": [
      "(7, 100)\n",
      "{'dice': 0.6562355608014002, 'jaccard': 0.48835609996702156}\n",
      "(7, 150)\n",
      "{'dice': 0.6632840822230098, 'jaccard': 0.4962042221552032}\n",
      "(7, 200)\n",
      "{'dice': 0.6680203571990149, 'jaccard': 0.5015244495736079}\n",
      "(7, 250)\n",
      "{'dice': 0.6707240838990476, 'jaccard': 0.5045785271325937}\n",
      "(7, 300)\n",
      "{'dice': 0.6731108055270947, 'jaccard': 0.507284864727896}\n",
      "(8, 100)\n",
      "{'dice': 0.6718416262652528, 'jaccard': 0.5058445133889051}\n",
      "(8, 150)\n",
      "{'dice': 0.6770758254783109, 'jaccard': 0.511802443796986}\n",
      "(8, 200)\n",
      "{'dice': 0.6803926004902283, 'jaccard': 0.5156022925780737}\n",
      "(8, 250)\n",
      "{'dice': 0.682464879268482, 'jaccard': 0.5179861003550067}\n",
      "(8, 300)\n",
      "{'dice': 0.684348503749651, 'jaccard': 0.5201594082475999}\n",
      "(9, 100)\n",
      "{'dice': 0.6835113033338118, 'jaccard': 0.5191926866251891}\n",
      "(9, 150)\n",
      "{'dice': 0.6874712026594645, 'jaccard': 0.5237760908960081}\n",
      "(9, 200)\n",
      "{'dice': 0.6898165908614732, 'jaccard': 0.5265038360660071}\n",
      "(9, 250)\n",
      "{'dice': 0.6908973465839013, 'jaccard': 0.5277640716570294}\n",
      "(9, 300)\n",
      "{'dice': 0.6916995289641329, 'jaccard': 0.5287008177994991}\n",
      "(10, 100)\n",
      "{'dice': 0.6919341146721166, 'jaccard': 0.5289749716992844}\n",
      "(10, 150)\n",
      "{'dice': 0.6942444290204283, 'jaccard': 0.5316802351450888}\n",
      "(10, 200)\n",
      "{'dice': 0.6957297783756524, 'jaccard': 0.5334245671186033}\n",
      "(10, 250)\n",
      "{'dice': 0.6959955136346362, 'jaccard': 0.5337370545208601}\n",
      "(10, 300)\n",
      "{'dice': 0.6961695025453988, 'jaccard': 0.5339417231798868}\n",
      "(11, 100)\n",
      "{'dice': 0.6972293849677988, 'jaccard': 0.53518967723306}\n",
      "(11, 150)\n",
      "{'dice': 0.6984310978937898, 'jaccard': 0.5366070876183215}\n",
      "(11, 200)\n",
      "{'dice': 0.6983721432695038, 'jaccard': 0.5365374900808555}\n",
      "(11, 250)\n",
      "{'dice': 0.6985778512305946, 'jaccard': 0.5367803613079382}\n",
      "(11, 300)\n",
      "{'dice': 0.6984553979222752, 'jaccard': 0.5366357762978646}\n"
     ]
    }
   ],
   "source": [
    "for key in best_params.keys():\n",
    "    print(key)\n",
    "    print(best_params[key])"
   ]
  },
  {
   "cell_type": "markdown",
   "id": "2261e0af",
   "metadata": {},
   "source": [
    "## Test maintaining the aspect ratio (the length-to-height ratio)"
   ]
  },
  {
   "cell_type": "markdown",
   "id": "7dd717ef",
   "metadata": {},
   "source": [
    "### Fixed width"
   ]
  },
  {
   "cell_type": "code",
   "execution_count": 8,
   "id": "bdc3d45c",
   "metadata": {},
   "outputs": [],
   "source": [
    "y_true_agg = []\n",
    "y_pred_agg = []\n",
    "\n",
    "accuracy_list = []\n",
    "sensitivity_list = []\n",
    "specificity_list = []\n",
    "\n",
    "# Desired width\n",
    "new_width = 1000\n",
    "\n",
    "for image_path in ORIGINAL_IMGs:\n",
    "    ID = extract_img_ID(image_path)\n",
    "    #print(ID)\n",
    "    \n",
    "    # Load original image\n",
    "    img = cv2.imread(image_path)\n",
    "    #plt.imshow(img)\n",
    "    \n",
    "    # Calculate the aspect ratio (width/height)\n",
    "    #print(img.shape[1], img.shape[0])\n",
    "    aspect_ratio = img.shape[1] / img.shape[0]  # width/height\n",
    "    # Calculate the new height based on the aspect ratio\n",
    "    new_height = int(new_width / aspect_ratio)\n",
    "    \n",
    "    # Load segmented image, resize to match with segmentation output, select only green channel and flatten \n",
    "    img_segment = cv2.imread(SEGMENT_IMG_FOLDER+ID+\".tif\")\n",
    "    img_segment_1000 = cv2.resize(img_segment, (new_width, new_height))\n",
    "    #plt.imshow(img_segment_1000)\n",
    "    y_true = img_segment_1000[:,:,1].flatten() // 255\n",
    "\n",
    "    # Make prediction\n",
    "    y_pred = retina_segment.segmentation(img, resize=True,new_w= new_width, new_h=new_height)\n",
    "    #plt.imshow(y_pred)\n",
    "    y_pred = y_pred.flatten() // 255\n",
    "    #print(y_pred.size, y_true.size)\n",
    "\n",
    "    # Append the flattened arrays to the aggregated lists\n",
    "    y_true_agg.extend(y_true)\n",
    "    y_pred_agg.extend(y_pred)\n",
    "\n",
    "    # Compute metrics for single images\n",
    "    accuracy = accuracy_score(y_true, y_pred)\n",
    "    sensitivity = recall_score(y_true, y_pred)\n",
    "    conf_matrix = confusion_matrix(y_true, y_pred)\n",
    "    TN, FP, FN, TP = conf_matrix.ravel()\n",
    "    specificity = TN / (TN + FP) if (TN + FP) != 0 else 0\n",
    "\n",
    "    # Append results\n",
    "    accuracy_list.append(accuracy)\n",
    "    sensitivity_list.append(sensitivity)\n",
    "    specificity_list.append(specificity)"
   ]
  },
  {
   "cell_type": "code",
   "execution_count": 9,
   "id": "5616a92c",
   "metadata": {},
   "outputs": [
    {
     "name": "stdout",
     "output_type": "stream",
     "text": [
      "Accuracy: 0.9497981981981982 Sensitivity: 0.7495321140584095 Specificity: 0.9642048325779095\n"
     ]
    }
   ],
   "source": [
    "# Average metrics\n",
    "print(\"Accuracy:\",mean(accuracy_list),\n",
    "      \"Sensitivity:\", mean(sensitivity_list),\n",
    "      \"Specificity:\",mean(specificity_list))"
   ]
  },
  {
   "cell_type": "code",
   "execution_count": 10,
   "id": "d406aad6",
   "metadata": {},
   "outputs": [
    {
     "name": "stdout",
     "output_type": "stream",
     "text": [
      "              precision    recall  f1-score   support\n",
      "\n",
      "           0       0.98      0.96      0.97  27992158\n",
      "           1       0.60      0.75      0.66   1977842\n",
      "\n",
      "    accuracy                           0.95  29970000\n",
      "   macro avg       0.79      0.86      0.82  29970000\n",
      "weighted avg       0.96      0.95      0.95  29970000\n",
      "\n"
     ]
    }
   ],
   "source": [
    "# Generate the classification report for aggregated results\n",
    "aggregated_report = classification_report(y_true_agg, y_pred_agg)\n",
    "print(aggregated_report)"
   ]
  },
  {
   "cell_type": "code",
   "execution_count": 11,
   "id": "a865fc7a",
   "metadata": {},
   "outputs": [
    {
     "name": "stdout",
     "output_type": "stream",
     "text": [
      "Dice Coefficient: 0.6626735847203744\n"
     ]
    }
   ],
   "source": [
    "dice = f1_score(y_true_agg, y_pred_agg)\n",
    "print(\"Dice Coefficient:\", dice)"
   ]
  },
  {
   "cell_type": "code",
   "execution_count": 12,
   "id": "6a381441",
   "metadata": {},
   "outputs": [
    {
     "name": "stdout",
     "output_type": "stream",
     "text": [
      "AUC: 0.8556541130607209\n"
     ]
    }
   ],
   "source": [
    "auc = roc_auc_score(y_true_agg, y_pred_agg)\n",
    "print(\"AUC:\", auc)"
   ]
  },
  {
   "cell_type": "code",
   "execution_count": 13,
   "id": "1569b91a",
   "metadata": {},
   "outputs": [
    {
     "name": "stdout",
     "output_type": "stream",
     "text": [
      "MCC: 0.6407221748596614\n"
     ]
    }
   ],
   "source": [
    "mcc = matthews_corrcoef(y_true_agg, y_pred_agg)\n",
    "print(\"MCC:\", mcc)"
   ]
  },
  {
   "cell_type": "code",
   "execution_count": 14,
   "id": "01494624",
   "metadata": {},
   "outputs": [
    {
     "name": "stdout",
     "output_type": "stream",
     "text": [
      "Jaccard: 0.4955211959840141\n"
     ]
    }
   ],
   "source": [
    "jaccard = jaccard_score(y_true_agg, y_pred_agg)\n",
    "print(\"Jaccard:\", jaccard)"
   ]
  },
  {
   "cell_type": "markdown",
   "id": "02444a68",
   "metadata": {},
   "source": [
    "### Fixed height"
   ]
  },
  {
   "cell_type": "code",
   "execution_count": 11,
   "id": "8fd964cd",
   "metadata": {
    "scrolled": true
   },
   "outputs": [
    {
     "data": {
      "image/png": "[encoded data removed]",
      "text/plain": [
       "<Figure size 640x480 with 1 Axes>"
      ]
     },
     "metadata": {},
     "output_type": "display_data"
    }
   ],
   "source": [
    "y_true_agg = []\n",
    "y_pred_agg = []\n",
    "\n",
    "accuracy_list = []\n",
    "sensitivity_list = []\n",
    "specificity_list = []\n",
    "\n",
    "# Desired height\n",
    "new_height = 1000\n",
    "\n",
    "for image_path in ORIGINAL_IMGs:\n",
    "    ID = extract_img_ID(image_path)\n",
    "    #print(ID)\n",
    "    \n",
    "    # Load original image\n",
    "    img = cv2.imread(image_path)\n",
    "    #plt.imshow(img)\n",
    "    \n",
    "    # Calculate the aspect ratio (width/height)\n",
    "    aspect_ratio = img.shape[1] / img.shape[0]  # width/height\n",
    "    # Calculate the new width based on the aspect ratio\n",
    "    new_width = int(new_height * aspect_ratio)\n",
    "    \n",
    "    # Load segmented image, resize to match with segmentation output, select only green channel and flatten \n",
    "    img_segment = cv2.imread(SEGMENT_IMG_FOLDER+ID+\".tif\")\n",
    "    img_segment_1000 = cv2.resize(img_segment, (new_width, new_height))\n",
    "    #plt.imshow(img_segment_1000)\n",
    "    y_true = img_segment_1000[:,:,1].flatten() // 255\n",
    "\n",
    "    # Make prediction\n",
    "    y_pred = retina_segment.segmentation(img, resize=True,new_w= new_width, new_h=new_height)\n",
    "    #plt.imshow(y_pred)\n",
    "    y_pred = y_pred.flatten() // 255\n",
    "    #print(y_pred.size, y_true.size)\n",
    "\n",
    "    # Append the flattened arrays to the aggregated lists\n",
    "    y_true_agg.extend(y_true)\n",
    "    y_pred_agg.extend(y_pred)\n",
    "\n",
    "    # Compute metrics for single images\n",
    "    accuracy = accuracy_score(y_true, y_pred)\n",
    "    sensitivity = recall_score(y_true, y_pred)\n",
    "    conf_matrix = confusion_matrix(y_true, y_pred)\n",
    "    TN, FP, FN, TP = conf_matrix.ravel()\n",
    "    specificity = TN / (TN + FP) if (TN + FP) != 0 else 0\n",
    "\n",
    "    # Append results\n",
    "    accuracy_list.append(accuracy)\n",
    "    sensitivity_list.append(sensitivity)\n",
    "    specificity_list.append(specificity)"
   ]
  },
  {
   "cell_type": "code",
   "execution_count": 12,
   "id": "a0d72a38",
   "metadata": {},
   "outputs": [
    {
     "name": "stdout",
     "output_type": "stream",
     "text": [
      "Accuracy: 0.956331525925926 Sensitivity: 0.7953333090301646 Specificity: 0.9678458290518002\n"
     ]
    }
   ],
   "source": [
    "# Average metrics\n",
    "print(\"Accuracy:\",mean(accuracy_list),\n",
    "      \"Sensitivity:\", mean(sensitivity_list),\n",
    "      \"Specificity:\",mean(specificity_list))"
   ]
  },
  {
   "cell_type": "code",
   "execution_count": 13,
   "id": "d6a68c55",
   "metadata": {},
   "outputs": [
    {
     "name": "stdout",
     "output_type": "stream",
     "text": [
      "              precision    recall  f1-score   support\n",
      "\n",
      "           0       0.99      0.97      0.98  63046753\n",
      "           1       0.64      0.79      0.71   4453247\n",
      "\n",
      "    accuracy                           0.96  67500000\n",
      "   macro avg       0.81      0.88      0.84  67500000\n",
      "weighted avg       0.96      0.96      0.96  67500000\n",
      "\n"
     ]
    }
   ],
   "source": [
    "# Generate the classification report for aggregated results\n",
    "aggregated_report = classification_report(y_true_agg, y_pred_agg)\n",
    "print(aggregated_report)"
   ]
  },
  {
   "cell_type": "code",
   "execution_count": 14,
   "id": "8f6afe29",
   "metadata": {},
   "outputs": [
    {
     "name": "stdout",
     "output_type": "stream",
     "text": [
      "Dice Coefficient: 0.7059234101615494\n"
     ]
    }
   ],
   "source": [
    "dice = f1_score(y_true_agg, y_pred_agg)\n",
    "print(\"Dice Coefficient:\", dice)"
   ]
  },
  {
   "cell_type": "code",
   "execution_count": 15,
   "id": "57a51aed",
   "metadata": {},
   "outputs": [
    {
     "name": "stdout",
     "output_type": "stream",
     "text": [
      "AUC: 0.8811041714632346\n"
     ]
    }
   ],
   "source": [
    "auc = roc_auc_score(y_true_agg, y_pred_agg)\n",
    "print(\"AUC:\", auc)"
   ]
  },
  {
   "cell_type": "code",
   "execution_count": 16,
   "id": "52652fd2",
   "metadata": {},
   "outputs": [
    {
     "name": "stdout",
     "output_type": "stream",
     "text": [
      "MCC: 0.687642859810086\n"
     ]
    }
   ],
   "source": [
    "mcc = matthews_corrcoef(y_true_agg, y_pred_agg)\n",
    "print(\"MCC:\", mcc)"
   ]
  },
  {
   "cell_type": "code",
   "execution_count": 17,
   "id": "c07c92c0",
   "metadata": {},
   "outputs": [
    {
     "name": "stdout",
     "output_type": "stream",
     "text": [
      "Jaccard: 0.5455035781534964\n"
     ]
    }
   ],
   "source": [
    "jaccard = jaccard_score(y_true_agg, y_pred_agg)\n",
    "print(\"Jaccard:\", jaccard)"
   ]
  },
  {
   "cell_type": "code",
   "execution_count": 22,
   "id": "981ccc55",
   "metadata": {},
   "outputs": [],
   "source": [
    "best_params = {}\n",
    "# Desired height\n",
    "new_height = 1000\n",
    "\n",
    "for t_i in t_values:\n",
    "    for A_i in A_values:\n",
    "        #for L_i in L_values:\n",
    "\n",
    "            y_true_agg = []\n",
    "            y_pred_agg = []\n",
    "\n",
    "            for image_path in ORIGINAL_IMGs:\n",
    "                ID = extract_img_ID(image_path)\n",
    "                #print(ID)\n",
    "                \n",
    "                # Load original image\n",
    "                img = cv2.imread(image_path)\n",
    "                \n",
    "                # Calculate the aspect ratio (width/height)\n",
    "                aspect_ratio = img.shape[1] / img.shape[0]  # width/height\n",
    "                # Calculate the new width based on the aspect ratio\n",
    "                new_width = int(new_height * aspect_ratio)\n",
    "                \n",
    "                \n",
    "                # Load segmented image, resize to match with segmentation output, select only green channel and flatten \n",
    "                img_segment = cv2.imread(SEGMENT_IMG_FOLDER+ID+\".tif\")\n",
    "                img_segment_1000 = cv2.resize(img_segment, (new_width, new_height))\n",
    "                #plt.imshow(img_segment_1000)\n",
    "                y_true = img_segment_1000[:,:,1].flatten() // 255\n",
    "\n",
    "                # Make prediction\n",
    "                y_pred = retina_segment.segmentation(img,t=t_i, A=A_i, resize=True,new_w= new_width, new_h=new_height)\n",
    "                y_pred = y_pred.flatten() // 255\n",
    "\n",
    "                # Append the flattened arrays to the aggregated lists\n",
    "                y_true_agg.extend(y_true)\n",
    "                y_pred_agg.extend(y_pred)\n",
    "\n",
    "            # Generate the classification report for aggregated results\n",
    "            # aggregated_report = classification_report(y_true_agg, y_pred_agg)\n",
    "            # auc = roc_auc_score(y_true_agg, y_pred_agg)\n",
    "            dice = f1_score(y_true_agg, y_pred_agg)\n",
    "            jaccard = jaccard_score(y_true_agg, y_pred_agg)\n",
    "\n",
    "\n",
    "            best_params[(t_i,A_i)] = {'dice':dice,'jaccard':jaccard} "
   ]
  },
  {
   "cell_type": "code",
   "execution_count": 23,
   "id": "fd4a4b3a",
   "metadata": {},
   "outputs": [
    {
     "name": "stdout",
     "output_type": "stream",
     "text": [
      "(7, 100)\n",
      "{'dice': 0.6817807682039954, 'jaccard': 0.5171983170622574}\n",
      "(7, 150)\n",
      "{'dice': 0.6890956203908818, 'jaccard': 0.5256642903247866}\n",
      "(7, 200)\n",
      "{'dice': 0.6941130245415827, 'jaccard': 0.5315261102883135}\n",
      "(7, 250)\n",
      "{'dice': 0.6973157917296278, 'jaccard': 0.5352915060323657}\n",
      "(7, 300)\n",
      "{'dice': 0.6993919482539787, 'jaccard': 0.5377422870134236}\n",
      "(8, 100)\n",
      "{'dice': 0.6968824448783396, 'jaccard': 0.5347809506052414}\n",
      "(8, 150)\n",
      "{'dice': 0.702216336950214, 'jaccard': 0.541088901751166}\n",
      "(8, 200)\n",
      "{'dice': 0.7059234101615494, 'jaccard': 0.5455035781534964}\n",
      "(8, 250)\n",
      "{'dice': 0.7081364168156663, 'jaccard': 0.5481510788237951}\n",
      "(8, 300)\n",
      "{'dice': 0.7094983171108427, 'jaccard': 0.5497848832885112}\n",
      "(9, 100)\n",
      "{'dice': 0.7078123554768819, 'jaccard': 0.5477628256831849}\n",
      "(9, 150)\n",
      "{'dice': 0.7113735333129273, 'jaccard': 0.5520401386305498}\n",
      "(9, 200)\n",
      "{'dice': 0.7139085631863193, 'jaccard': 0.555099383100663}\n",
      "(9, 250)\n",
      "{'dice': 0.715363497403694, 'jaccard': 0.5568606340843603}\n",
      "(9, 300)\n",
      "{'dice': 0.715810739922507, 'jaccard': 0.5574028394220586}\n",
      "(10, 100)\n",
      "{'dice': 0.7145658485134982, 'jaccard': 0.5558945572491286}\n",
      "(10, 150)\n",
      "{'dice': 0.717179056106649, 'jaccard': 0.5590640373628578}\n",
      "(10, 200)\n",
      "{'dice': 0.7183263726106942, 'jaccard': 0.56045966559668}\n",
      "(10, 250)\n",
      "{'dice': 0.7188017047442803, 'jaccard': 0.5610386053478253}\n",
      "(10, 300)\n",
      "{'dice': 0.7188292436898719, 'jaccard': 0.5610721600921926}\n",
      "(11, 100)\n",
      "{'dice': 0.7186613339607105, 'jaccard': 0.5608675934069364}\n",
      "(11, 150)\n",
      "{'dice': 0.7198283542793844, 'jaccard': 0.5622904996260788}\n",
      "(11, 200)\n",
      "{'dice': 0.7204227255196395, 'jaccard': 0.5630161928377517}\n",
      "(11, 250)\n",
      "{'dice': 0.7202129787445073, 'jaccard': 0.5627600270847928}\n",
      "(11, 300)\n",
      "{'dice': 0.7200139631709191, 'jaccard': 0.562517045072316}\n"
     ]
    }
   ],
   "source": [
    "for key in best_params.keys():\n",
    "    print(key)\n",
    "    print(best_params[key])"
   ]
  },
  {
   "cell_type": "markdown",
   "id": "c116ad17",
   "metadata": {},
   "source": [
    "(11, 200)\n",
    "{'dice': 0.7204227255196395, 'jaccard': 0.5630161928377517}"
   ]
  },
  {
   "cell_type": "code",
   "execution_count": null,
   "id": "b4f57a0b",
   "metadata": {},
   "outputs": [],
   "source": []
  }
 ],
 "metadata": {
  "kernelspec": {
   "display_name": "Python 3 (ipykernel)",
   "language": "python",
   "name": "python3"
  },
  "language_info": {
   "codemirror_mode": {
    "name": "ipython",
    "version": 3
   },
   "file_extension": ".py",
   "mimetype": "text/x-python",
   "name": "python",
   "nbconvert_exporter": "python",
   "pygments_lexer": "ipython3",
   "version": "3.11.5"
  }
 },
 "nbformat": 4,
 "nbformat_minor": 5
}
